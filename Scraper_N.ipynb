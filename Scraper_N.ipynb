{
 "cells": [
  {
   "cell_type": "code",
   "execution_count": 3,
   "metadata": {},
   "outputs": [],
   "source": [
    "# General packages\n",
    "\n",
    "import requests\n",
    "import pandas as pd\n",
    "from bs4 import BeautifulSoup\n",
    "import numpy as np\n",
    "import time\n",
    "import json\n",
    "import re\n"
   ]
  },
  {
   "cell_type": "code",
   "execution_count": null,
   "metadata": {},
   "outputs": [],
   "source": [
    "# Selenium\n",
    "\n",
    "from selenium.webdriver.edge import service\n",
    "from selenium import webdriver\n",
    "from selenium.webdriver.common.by import By\n",
    "from collections import Counter\n",
    "from nltk.corpus import stopwords\n",
    "from selenium.webdriver.common.action_chains import ActionChains"
   ]
  },
  {
   "cell_type": "code",
   "execution_count": 34,
   "metadata": {},
   "outputs": [
    {
     "name": "stderr",
     "output_type": "stream",
     "text": [
      "/home/jane/miniconda2/envs/briq/lib/python3.7/site-packages/IPython/core/interactiveshell.py:2714: DtypeWarning: Columns (19,20,21,22,23,24,25,28,29) have mixed types.Specify dtype option on import or set low_memory=False.\n",
      "  interactivity=interactivity, compiler=compiler, result=result)\n"
     ]
    }
   ],
   "source": [
    "# Load scraped dataset\n",
    "pages = pd.read_csv(\"data/full_pages.csv\", \";\", index_col = \"Unnamed: 0\")"
   ]
  },
  {
   "cell_type": "markdown",
   "metadata": {},
   "source": [
    "# Collect penetration dates from the forum"
   ]
  },
  {
   "cell_type": "code",
   "execution_count": null,
   "metadata": {},
   "outputs": [],
   "source": [
    "#Load data:\n",
    "\n",
    "pages_pd = pd.read_csv('scraped_product_pages_extracted.csv', sep=\";\", index_col = \"Unnamed: 0\") "
   ]
  },
  {
   "cell_type": "markdown",
   "metadata": {},
   "source": [
    "For the ones with a github page:"
   ]
  },
  {
   "cell_type": "code",
   "execution_count": null,
   "metadata": {},
   "outputs": [],
   "source": [
    "pages_penetrated = pages[(pages[\"nonzero_price\"]) & (pages[\"open_issues\"].isnull()==False)]"
   ]
  },
  {
   "cell_type": "code",
   "execution_count": null,
   "metadata": {},
   "outputs": [],
   "source": [
    "pages_penetrated[\"search_query\"]=pages_penetrated[\"githublink\"].str.split('/').str[4]"
   ]
  },
  {
   "cell_type": "code",
   "execution_count": null,
   "metadata": {},
   "outputs": [],
   "source": [
    "pages_penetrated_dict = pages_penetrated[[\"url\", \"search_query\", \"main_developer_username\", \"launch_date\"]].to_dict(orient=\"records\")"
   ]
  },
  {
   "cell_type": "code",
   "execution_count": null,
   "metadata": {},
   "outputs": [],
   "source": [
    "#setting up selenium to function\n",
    "edgeOption = webdriver.EdgeOptions()\n",
    "edgeOption.use_chromium = True\n",
    "edgeOption.add_argument(\"start-maximized\")\n",
    "edgeOption.binary_location = r\"C:\\Program Files (x86)\\Microsoft\\Edge\\Application\\msedge.exe\"\n",
    "s=service.Service(r'C:\\Users\\Yana Gerina\\Documents\\msedgedriver.exe')\n",
    "driver = webdriver.Edge(service=s, options=edgeOption)"
   ]
  },
  {
   "cell_type": "code",
   "execution_count": null,
   "metadata": {},
   "outputs": [],
   "source": [
    "for page in pages_penetrated_dict:\n",
    "    driver.get(\"https://forum.xda-developers.com\" + page[\"url\"])\n",
    "    time.sleep(3)\n",
    "    #Collect the number of open and closed issues if it's available:\n",
    "    for button in driver.find_elements(by=By.CLASS_NAME, value = \"button-text\"):\n",
    "        if button.text == \"Search This thread\":\n",
    "            button.click()\n",
    "            time.sleep(2)\n",
    "    input_row = driver.switch_to.active_element\n",
    "    input_row.send_keys(\"pro |purchase|donation\")\n",
    "    time.sleep(2)\n",
    "    driver.find_element(by=By.CLASS_NAME, value = \"quickSearch-ResultCloser\").click()\n",
    "    time.sleep(1)\n",
    "    input_row.send_keys(Keys.TAB + Keys.TAB)\n",
    "    time.sleep(2)\n",
    "    member_input_row = driver.switch_to.active_element\n",
    "    member_input_row.send_keys(page[\"main_developer_username\"])\n",
    "    time.sleep(2)\n",
    "    member_input_row.send_keys(Keys.ENTER + Keys.ENTER)\n",
    "    time.sleep(2)\n",
    "    \n",
    "    results  = []\n",
    "    for result in driver.find_elements(by=By.CLASS_NAME, value = \"contentRow-main\"):\n",
    "        title = result.find_element(by=By.CLASS_NAME, value = \"contentRow-title\")\n",
    "        if re.search(\"Post\", title.text) is not None:\n",
    "            datestamp = result.find_element(by=By.CLASS_NAME, value = \"u-dt\").text\n",
    "            post_number = [x.text for x in result.find_elements(by=By.TAG_NAME, value = \"li\") if re.search(\"Post\", x.text) is not None][0].replace(\",\",\"\")\n",
    "            post_number = int(re.search(r\"[\\d,]+\", post_number).group(0))\n",
    "            mention = {\"title\": title.text, \"datestamp\": datestamp, \"post_number\": post_number}\n",
    "            results.append(mention)\n",
    "\n",
    "        if results:\n",
    "            earliest_post = min(results, key=lambda x:x['post_number'])\n",
    "            page[\"penetration_datestamp\"] = earliest_post[\"datestamp\"]\n",
    "        else: \n",
    "            page[\"penetration_datestamp\"] = np.nan\n",
    "driver.quit()   "
   ]
  },
  {
   "cell_type": "code",
   "execution_count": null,
   "metadata": {},
   "outputs": [],
   "source": [
    "with open('pages_github_penetrated_datestamps.json', 'w') as fp:\n",
    "    json.dump(pages_penetrated_dict, fp)"
   ]
  },
  {
   "cell_type": "markdown",
   "metadata": {},
   "source": [
    "For all non-zero priced products:"
   ]
  },
  {
   "cell_type": "code",
   "execution_count": null,
   "metadata": {},
   "outputs": [],
   "source": [
    "pages_nonzero_dict = pages[pages[\"nonzero_price\"]][[\"url\", \"search_query\", \"main_developer_username\", \"launch_date\"]].to_dict(orient=\"records\")"
   ]
  },
  {
   "cell_type": "code",
   "execution_count": null,
   "metadata": {},
   "outputs": [],
   "source": [
    "#setting up selenium to function\n",
    "edgeOption = webdriver.EdgeOptions()\n",
    "edgeOption.use_chromium = True\n",
    "edgeOption.add_argument(\"start-maximized\")\n",
    "edgeOption.binary_location = r\"C:\\Program Files (x86)\\Microsoft\\Edge\\Application\\msedge.exe\"\n",
    "s=service.Service(r'C:\\Users\\Yana Gerina\\Documents\\msedgedriver.exe')\n",
    "driver = webdriver.Edge(service=s, options=edgeOption)"
   ]
  },
  {
   "cell_type": "code",
   "execution_count": null,
   "metadata": {},
   "outputs": [],
   "source": [
    "for page in pages_nonzero_dict:\n",
    "    driver.get(\"https://forum.xda-developers.com\" + page[\"url\"])\n",
    "    time.sleep(3)\n",
    "    #Collect the number of open and closed issues if it's available:\n",
    "    for button in driver.find_elements(by=By.CLASS_NAME, value = \"button-text\"):\n",
    "        if button.text == \"Search This thread\":\n",
    "            button.click()\n",
    "            time.sleep(2)\n",
    "    input_row = driver.switch_to.active_element\n",
    "    input_row.send_keys(\"pro |purchase|donation\")\n",
    "    time.sleep(2)\n",
    "    driver.find_element(by=By.CLASS_NAME, value = \"quickSearch-ResultCloser\").click()\n",
    "    time.sleep(1)\n",
    "    input_row.send_keys(Keys.TAB + Keys.TAB)\n",
    "    time.sleep(2)\n",
    "    member_input_row = driver.switch_to.active_element\n",
    "    member_input_row.send_keys(page[\"main_developer_username\"])\n",
    "    time.sleep(2)\n",
    "    member_input_row.send_keys(Keys.ENTER + Keys.ENTER)\n",
    "    time.sleep(2)\n",
    "    \n",
    "    results  = []\n",
    "    for result in driver.find_elements(by=By.CLASS_NAME, value = \"contentRow-main\"):\n",
    "        title = result.find_element(by=By.CLASS_NAME, value = \"contentRow-title\")\n",
    "        if re.search(\"Post\", title.text) is not None:\n",
    "            datestamp = result.find_element(by=By.CLASS_NAME, value = \"u-dt\").text\n",
    "            post_number = [x.text for x in result.find_elements(by=By.TAG_NAME, value = \"li\") if re.search(\"Post\", x.text) is not None][0].replace(\",\",\"\")\n",
    "            post_number = int(re.search(r\"[\\d,]+\", post_number).group(0))\n",
    "            mention = {\"title\": title.text, \"datestamp\": datestamp, \"post_number\": post_number}\n",
    "            results.append(mention)\n",
    "        time.sleep(2)\n",
    "    while True:\n",
    "        driver.find_elements(by=By.LINK_TEXT, value = \"Next\") is not None:\n",
    "        driver.execute_script(\"window.scrollTo(0,document.body.scrollHeight)\")\n",
    "        time.sleep(2)\n",
    "        driver.find_element(by=By.LINK_TEXT, value = \"Next\").click()\n",
    "        time.sleep(2)\n",
    "        title = result.find_element(by=By.CLASS_NAME, value = \"contentRow-title\")\n",
    "        if re.search(\"Post\", title.text) is not None:\n",
    "            datestamp = result.find_element(by=By.CLASS_NAME, value = \"u-dt\").text\n",
    "            post_number = [x.text for x in result.find_elements(by=By.TAG_NAME, value = \"li\") if re.search(\"Post\", x.text) is not None][0].replace(\",\",\"\")\n",
    "            post_number = int(re.search(r\"[\\d,]+\", post_number).group(0))\n",
    "            mention = {\"title\": title.text, \"datestamp\": datestamp, \"post_number\": post_number}\n",
    "            results.append(mention)\n",
    "            try:\n",
    "                element = wait.until(EC.element_to_be_clickable((By.CLASS_NAME, 'reviews_pagination_link_nav')))\n",
    "                element.click()\n",
    "            except TimeoutException:\n",
    "                break\n",
    "            \n",
    "    if results:\n",
    "        earliest_post = min(results, key=lambda x:x['post_number'])\n",
    "        page[\"penetration_datestamp\"] = earliest_post[\"datestamp\"]\n",
    "    else: \n",
    "        page[\"penetration_datestamp\"] = np.nan\n",
    "driver.quit()    \n"
   ]
  },
  {
   "cell_type": "code",
   "execution_count": null,
   "metadata": {},
   "outputs": [],
   "source": [
    "driver.execute_script(\"window.scrollTo(0,document.body.scrollHeight)\")\n",
    "time.sleep(2)\n",
    "driver.find_element(by=By.LINK_TEXT, value = \"Next\").click()\n"
   ]
  },
  {
   "cell_type": "code",
   "execution_count": null,
   "metadata": {},
   "outputs": [],
   "source": [
    "driver.find_element(by=By.LINK_TEXT, value = \"Next\").click()"
   ]
  },
  {
   "cell_type": "code",
   "execution_count": null,
   "metadata": {},
   "outputs": [],
   "source": [
    "driver.quit()"
   ]
  },
  {
   "cell_type": "code",
   "execution_count": null,
   "metadata": {},
   "outputs": [],
   "source": []
  },
  {
   "cell_type": "markdown",
   "metadata": {},
   "source": [
    "# Collect mentions of product in other forums after the date"
   ]
  },
  {
   "cell_type": "code",
   "execution_count": null,
   "metadata": {},
   "outputs": [],
   "source": []
  },
  {
   "cell_type": "code",
   "execution_count": null,
   "metadata": {},
   "outputs": [],
   "source": []
  },
  {
   "cell_type": "code",
   "execution_count": null,
   "metadata": {},
   "outputs": [],
   "source": []
  },
  {
   "cell_type": "code",
   "execution_count": null,
   "metadata": {},
   "outputs": [],
   "source": []
  }
 ],
 "metadata": {
  "kernelspec": {
   "display_name": "Python3 (briq)",
   "language": "python",
   "name": "briq"
  },
  "language_info": {
   "codemirror_mode": {
    "name": "ipython",
    "version": 3
   },
   "file_extension": ".py",
   "mimetype": "text/x-python",
   "name": "python",
   "nbconvert_exporter": "python",
   "pygments_lexer": "ipython3",
   "version": "3.7.9"
  }
 },
 "nbformat": 4,
 "nbformat_minor": 4
}
